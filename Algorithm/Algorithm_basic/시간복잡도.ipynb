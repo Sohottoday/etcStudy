{
 "cells": [
  {
   "cell_type": "markdown",
   "metadata": {},
   "source": [
    "### 자동차로 서울에서 부산을 가기 위해, 다음과 같이 항목을 나누었을 때, 가장 총 시간에 영향을 많이 미칠 것 같은 요소는?\n",
    "\n",
    "- 예\n",
    "    - 자동차로 서울에서 부산 가기\n",
    "        1. 자동차 문열기\n",
    "        2. 자동차 문닫기\n",
    "        3. 자동차 운전석 등받이 조정하기\n",
    "        4. 자동차 시동걸기\n",
    "        5. 자동차로 서울에서 부산가기\n",
    "        6. 자동차 시동 끄기\n",
    "        7. 자동차 문열기\n",
    "        8. 자동차 문닫기"
   ]
  },
  {
   "cell_type": "markdown",
   "metadata": {},
   "source": [
    "##### 반복문을 어떻게 구성하느냐에 따라 알고리즘의 시간복잡도가 계산된다\n",
    "##### 프로그래밍에서 시간 복잡도에 가장 영향을 많이 미치는 요소는 반복문\n",
    "- 입력의 크기가 커지면 커질수록 반복문이 알고리즘 수행 시간을 지배함"
   ]
  },
  {
   "cell_type": "markdown",
   "metadata": {},
   "source": [
    "### 1부터 n까지의 합을 구하는 알고리즘1\n",
    "- 합을 기록할 변수를 만들고 0을 저장\n",
    "- n을 1부터 1씩 증가시키면서 반복\n",
    "- 반복문 안에서 합을 기록할 변수에 1씩 증가된 값을 더함\n",
    "- 반복이 끝나면 합을 출력"
   ]
  },
  {
   "cell_type": "code",
   "execution_count": 1,
   "metadata": {},
   "outputs": [],
   "source": [
    "def sum_all(n):\n",
    "    total = 0\n",
    "    for num in range(1, n+1):\n",
    "        total += num\n",
    "    return total"
   ]
  },
  {
   "cell_type": "code",
   "execution_count": 2,
   "metadata": {},
   "outputs": [
    {
     "data": {
      "text/plain": [
       "5050"
      ]
     },
     "execution_count": 2,
     "metadata": {},
     "output_type": "execute_result"
    }
   ],
   "source": [
    "sum_all(100)"
   ]
  },
  {
   "cell_type": "markdown",
   "metadata": {},
   "source": [
    "### 시간 복잡도 구하기\n",
    "- 1부터 n까지의 합을 구하는 알고리즘1\n",
    "    - 입력 n에 따라 덧셈을 n번 해야 함(반복문)\n",
    "    - 시간 복잡도 : n, 빅 오 표기법으로는 O(n)   "
   ]
  },
  {
   "cell_type": "markdown",
   "metadata": {},
   "source": [
    "### 알고리즘 2 : 1부터 n까지의 합을 구하는 알고리즘 2\n",
    "- $$ n(n+1) \\above 1pt 2 $$"
   ]
  },
  {
   "cell_type": "code",
   "execution_count": 6,
   "metadata": {},
   "outputs": [],
   "source": [
    "def sum_all(n):\n",
    "    return int(n * (n + 1) / 2)"
   ]
  },
  {
   "cell_type": "code",
   "execution_count": 7,
   "metadata": {},
   "outputs": [
    {
     "data": {
      "text/plain": [
       "4950"
      ]
     },
     "execution_count": 7,
     "metadata": {},
     "output_type": "execute_result"
    }
   ],
   "source": [
    "sum_all(99)"
   ]
  },
  {
   "cell_type": "markdown",
   "metadata": {},
   "source": [
    "### 시간 복잡도 구하기\n",
    "- 1부터 n까지의 합을 구하는 알고리즘2\n",
    "    - 입력 n이 어떻든 간에, 곱셈/ 덧셈/ 나눗셈 하면 됨(반복문이 없음)\n",
    "    - 시간 복잡도 : 1, 빅 오 표기법으로는 O(1)"
   ]
  },
  {
   "cell_type": "markdown",
   "metadata": {},
   "source": [
    "### 어느 알고리즘 성능이 더 뛰어난가?\n",
    "- 알고리즘 1 vs 알고리즘 2\n",
    "- O(n) vs O(1)\n",
    "- 이와 같이, 동일한 문제를 푸는 알고리즘은 다양할 수 있음, 어느 알고리즘이 보다 좋은지를 객관적으로 비교하기 위해, 빅 오 표기법 등으로 시간복잡도 계산법을 사용함"
   ]
  },
  {
   "cell_type": "code",
   "execution_count": null,
   "metadata": {},
   "outputs": [],
   "source": []
  }
 ],
 "metadata": {
  "kernelspec": {
   "display_name": "Python 3",
   "language": "python",
   "name": "python3"
  },
  "language_info": {
   "codemirror_mode": {
    "name": "ipython",
    "version": 3
   },
   "file_extension": ".py",
   "mimetype": "text/x-python",
   "name": "python",
   "nbconvert_exporter": "python",
   "pygments_lexer": "ipython3",
   "version": "3.7.6"
  }
 },
 "nbformat": 4,
 "nbformat_minor": 4
}
