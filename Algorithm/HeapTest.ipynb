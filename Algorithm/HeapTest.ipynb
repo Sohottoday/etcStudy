{
 "cells": [
  {
   "cell_type": "markdown",
   "metadata": {},
   "source": [
    "### 힙에 데이터 삽입 구현(Max Heap 예)\n",
    "- 힙 클래스 구현 1"
   ]
  },
  {
   "cell_type": "code",
   "execution_count": 1,
   "metadata": {},
   "outputs": [],
   "source": [
    "class Heap:\n",
    "    def __init__(self, data):\n",
    "        self.heap_array = list()\n",
    "        self.heap_array.append(None)\n",
    "        self.heap_array.append(data)"
   ]
  },
  {
   "cell_type": "code",
   "execution_count": 2,
   "metadata": {},
   "outputs": [
    {
     "data": {
      "text/plain": [
       "[None, 1]"
      ]
     },
     "execution_count": 2,
     "metadata": {},
     "output_type": "execute_result"
    }
   ],
   "source": [
    "heap = Heap(1)\n",
    "heap.heap_array"
   ]
  },
  {
   "cell_type": "markdown",
   "metadata": {},
   "source": [
    "- 힙 클래스 구현2 - insert1\n",
    "    - 인덱스 번호는 1번부터 시작하도록 변경"
   ]
  },
  {
   "cell_type": "code",
   "execution_count": 3,
   "metadata": {},
   "outputs": [],
   "source": [
    "class Heap:\n",
    "    def __init__(self, data):\n",
    "        self.heap_array = list()\n",
    "        self.heap_array.append(None)\n",
    "        self.heap_array.append(data)\n",
    "        \n",
    "    def insert(self, data):\n",
    "        if len(self.heap_array) == 0:\n",
    "            self.heap_array.append(None)\n",
    "            self.heap_array.append(data)\n",
    "            return True\n",
    "        \n",
    "        self.heap_array.append(data)    # append 자체가 배열의 맨 끝에 넣는 방식이므로\n",
    "        return True"
   ]
  },
  {
   "cell_type": "markdown",
   "metadata": {},
   "source": [
    "- 힙 클래스 구현3 - insert2\n",
    "    - 삽입한 노드가 부모 노드의 값보다 클 경우, 부모 노드와 삽입한 노드 위치를 바꿈\n",
    "    - 삽입한 노드가 루트 노드가 되거나, 부모 노드보다 값이 작거나 같을 경우까지 반복"
   ]
  },
  {
   "cell_type": "code",
   "execution_count": 4,
   "metadata": {},
   "outputs": [],
   "source": [
    "class Heap:\n",
    "    def __init__(self, data):\n",
    "        self.heap_array = list()\n",
    "        self.heap_array.append(None)\n",
    "        self.heap_array.append(data)\n",
    "        \n",
    "    def move_up(self, inserted_idx):          # 크기에 따라 데이터를 바꿔주는 함수\n",
    "        if inserted_idx <= 1:\n",
    "            return False\n",
    "        parent_idx = inserted_idx // 2\n",
    "        if self.heap_array[inserted_idx] > self.heap_array[parent_idx]:\n",
    "            return True\n",
    "        else:\n",
    "            return False\n",
    "        \n",
    "    def insert(self, data):\n",
    "        if len(self.heap_array) == 0:\n",
    "            self.heap_array.append(None)\n",
    "            self.heap_array.append(data)\n",
    "            return True\n",
    "        \n",
    "        self.heap_array.append(data)    # append 자체가 배열의 맨 끝에 넣는 방식이므로\n",
    "        \n",
    "        inserted_idx = len(self.heap_array) - 1        # 항상 None이 들어가므로 실제 힙에 들어간 데이터보다 1이 추가된 길이로 출력된다.\n",
    "        \n",
    "        while self.move_up(inserted_idx):\n",
    "            parent_idx = inserted_idx // 2\n",
    "            self.heap_array[inserted_idx], self.heap_array[parent_idx] = self.heap_array[parent_idx], self.heap_array[inserted_idx]    # 부모 노드와 바꿔주는 코드\n",
    "            inserted_idx = parent_idx\n",
    "        \n",
    "        return True"
   ]
  },
  {
   "cell_type": "code",
   "execution_count": 6,
   "metadata": {},
   "outputs": [
    {
     "data": {
      "text/plain": [
       "[None, 20, 10, 15, 5, 4, 8]"
      ]
     },
     "execution_count": 6,
     "metadata": {},
     "output_type": "execute_result"
    }
   ],
   "source": [
    "heap = Heap(15)\n",
    "heap.insert(10)\n",
    "heap.insert(8)\n",
    "heap.insert(5)\n",
    "heap.insert(4)\n",
    "heap.insert(20)\n",
    "heap.heap_array"
   ]
  },
  {
   "cell_type": "markdown",
   "metadata": {},
   "source": [
    "- 특정 노드의 관련 노드 위치 알아내기\n",
    "    - 부모 노드 인덱스 번호(parent node's index) = 자식 노드 인덱스 번호 (child node's index) // 2\n",
    "    - 왼쪽 자식 노드 인덱스 번호(left child node's index) = 부모 노드 인덱스 번호 (parent node's index) * 2\n",
    "    - 오른쪽 자식 노드 인덱스 번호(right child node's index) = 부모 노드 인덱스 번호(parent node's index) * 2 + 1"
   ]
  },
  {
   "cell_type": "markdown",
   "metadata": {},
   "source": [
    "### 힙에 데이터 삭제 구현(Max Heap 예)\n",
    "- 힙 클래스 구현4 = delete1\n",
    "- 보통 삭제는 최상단 노드(root 노드)를 삭제하는 것이 일반적임\n",
    "    - 힙의 용도는 최대값 또는 최소값을 root 노드에 놓아서, 최대값과 최소값을 바로 꺼내 쓸 수 있도록 하는 것이므로 힙 중간의 데이터를 삭제하는 경우는 없다."
   ]
  },
  {
   "cell_type": "code",
   "execution_count": 10,
   "metadata": {},
   "outputs": [],
   "source": [
    "class Heap:\n",
    "    def __init__(self, data):\n",
    "        self.heap_array = list()\n",
    "        self.heap_array.append(None)\n",
    "        self.heap_array.append(data)\n",
    "        \n",
    "    def move_up(self, inserted_idx):          # 크기에 따라 데이터를 바꿔주는 함수\n",
    "        if inserted_idx <= 1:\n",
    "            return False\n",
    "        parent_idx = inserted_idx // 2\n",
    "        if self.heap_array[inserted_idx] > self.heap_array[parent_idx]:\n",
    "            return True\n",
    "        else:\n",
    "            return False\n",
    "        \n",
    "    def insert(self, data):\n",
    "        if len(self.heap_array) == 0:\n",
    "            self.heap_array.append(None)\n",
    "            self.heap_array.append(data)\n",
    "            return True\n",
    "        \n",
    "        self.heap_array.append(data)    # append 자체가 배열의 맨 끝에 넣는 방식이므로\n",
    "        \n",
    "        inserted_idx = len(self.heap_array) - 1        # 항상 None이 들어가므로 실제 힙에 들어간 데이터보다 1이 추가된 길이로 출력된다.\n",
    "        \n",
    "        while self.move_up(inserted_idx):\n",
    "            parent_idx = inserted_idx // 2\n",
    "            self.heap_array[inserted_idx], self.heap_array[parent_idx] = self.heap_array[parent_idx], self.heap_array[inserted_idx]    # 부모 노드와 바꿔주는 코드\n",
    "            inserted_idx = parent_idx\n",
    "        \n",
    "        return True\n",
    "    \n",
    "    def move_down(self, poped_idx):\n",
    "        left_child_poped_idx = poped_idx * 2\n",
    "        right_child_poped_idx = poped_idx * 2 + 1\n",
    "        \n",
    "        # case1 : 왼쪽 자식 노드도 없을 때\n",
    "        if left_child_poped_idx >= len(self.heap_array):\n",
    "            return False\n",
    "        # case2 : 오른쪽 자식 노드만 없을 때\n",
    "        elif right_child_poped_idx >= len(self.heap_array):\n",
    "            if self.heap_array[poped_idx] < self.heap_array[left_child_poped_idx]:\n",
    "                return True\n",
    "            else :\n",
    "                return False\n",
    "        # case3 : 왼쪽, 오른쪽 자식 노드 모두 있을 때\n",
    "        else:\n",
    "            if self.heap_array[left_child_poped_idx] > self.heap_array[right_child_poped_idx]:\n",
    "                if self.heap_array[poped_idx] < self.heap_array[left_child_poped_idx]:\n",
    "                    return True\n",
    "                else:\n",
    "                    return False\n",
    "            else :\n",
    "                if self.heap_array[poped_idx] < self.heap_array[right_child_poped_idx]:\n",
    "                    return True\n",
    "                else :\n",
    "                    return False\n",
    "    \n",
    "    \n",
    "    def pop(self):      # delete\n",
    "        if len(self.heap_array) <= 1 :\n",
    "            return None\n",
    "        \n",
    "        returned_data = self.heap_array[1]\n",
    "        self.heap_array[1] = self.heap_array[-1]       # 맨 뒤의 값을 맨 앞으로 가져옴\n",
    "        del self.heap_array[-1]        # 맨 뒤의 값은 이제 없으므로 지워준다.\n",
    "        poped_idx = 1\n",
    "        \n",
    "        while self.move_down(poped_idx):\n",
    "            left_child_poped_idx = poped_idx * 2\n",
    "            right_child_poped_idx = poped_idx * 2 + 1\n",
    "\n",
    "            # case2 : 오른쪽 자식 노드만 없을 때\n",
    "            if right_child_poped_idx >= len(self.heap_array):\n",
    "                if self.heap_array[poped_idx] < self.heap_array[left_child_poped_idx]:\n",
    "                    self.heap_array[poped_idx], self.heap_array[left_child_poped_idx] = self.heap_array[left_child_poped_idx], self.heap_array[poped_idx]\n",
    "                    poped_idx = left_child_poped_idx\n",
    "            # case3 : 왼쪽, 오른쪽 자식 노드 모두 있을 때\n",
    "            else:\n",
    "                if self.heap_array[left_child_poped_idx] > self.heap_array[right_child_poped_idx]:\n",
    "                    if self.heap_array[poped_idx] < self.heap_array[left_child_poped_idx]:\n",
    "                        self.heap_array[poped_idx], self.heap_array[left_child_poped_idx] = self.heap_array[left_child_poped_idx], self.heap_array[poped_idx]\n",
    "                        poped_idx = left_child_poped_idx\n",
    "                        return True\n",
    "                else :\n",
    "                    if self.heap_array[poped_idx] < self.heap_array[right_child_poped_idx]:\n",
    "                        self.heap_array[poped_idx], self.heap_array[right_child_poped_idx] = self.heap_array[right_child_poped_idx], self.heap_array[poped_idx]\n",
    "                        poped_idx = right_child_poped_idx\n",
    "\n",
    "            return returned_data\n",
    "    \n",
    "    "
   ]
  },
  {
   "cell_type": "markdown",
   "metadata": {},
   "source": [
    "### 힙 클래스 구현4 - delete2\n",
    "    - 상단의 데이터 삭제시, 가장 최하단부 왼쪽에 위치한 노드(일반적으로 가장 마지막에 추가한 노드)를 root 노드로 이동\n",
    "    - root 노드의 값이 child node 보다 작을 경우, root 노드의 child node 중 가장 큰 값을 가진 노드와 root 노드 위치를 바꿔주는 작업을 반복(swap)"
   ]
  },
  {
   "cell_type": "code",
   "execution_count": 11,
   "metadata": {},
   "outputs": [
    {
     "data": {
      "text/plain": [
       "[None, 20, 10, 15, 5, 4, 8]"
      ]
     },
     "execution_count": 11,
     "metadata": {},
     "output_type": "execute_result"
    }
   ],
   "source": [
    "heap = Heap(15)\n",
    "heap.insert(10)\n",
    "heap.insert(8)\n",
    "heap.insert(5)\n",
    "heap.insert(4)\n",
    "heap.insert(20)\n",
    "heap.heap_array"
   ]
  },
  {
   "cell_type": "code",
   "execution_count": 12,
   "metadata": {},
   "outputs": [
    {
     "data": {
      "text/plain": [
       "20"
      ]
     },
     "execution_count": 12,
     "metadata": {},
     "output_type": "execute_result"
    }
   ],
   "source": [
    "heap.pop()"
   ]
  },
  {
   "cell_type": "code",
   "execution_count": 13,
   "metadata": {},
   "outputs": [
    {
     "data": {
      "text/plain": [
       "[None, 15, 10, 8, 5, 4]"
      ]
     },
     "execution_count": 13,
     "metadata": {},
     "output_type": "execute_result"
    }
   ],
   "source": [
    "heap.heap_array"
   ]
  },
  {
   "cell_type": "markdown",
   "metadata": {},
   "source": [
    "### 힙(Heap) 시간 복잡도\n",
    "- depth(트리의 높이)를 h라고 표기한다면,\n",
    "- n개의 노드를 가지는 heap에 데이터 삽입 또는 삭제시, 최악의 경우 root 노드에서 leaf 노드까지 비교해야 하므로 $ h = log_{2}n $ 에ㅔ 가까우므로, 시간 복잡도는 $ O(log n) $\n",
    "    - 참고 : 빅오 표기법에서 $ log n $ 에서의 log의 밑은 10이 아니라 2\n",
    "    - 한번 실행시마다 50% 의 실행할 수도 있는 명령을 제거한다는 의미. 즉 50%의 실행시간을 단축시킬 수 있다는 것을 의미"
   ]
  },
  {
   "cell_type": "code",
   "execution_count": null,
   "metadata": {},
   "outputs": [],
   "source": []
  }
 ],
 "metadata": {
  "kernelspec": {
   "display_name": "Python 3",
   "language": "python",
   "name": "python3"
  },
  "language_info": {
   "codemirror_mode": {
    "name": "ipython",
    "version": 3
   },
   "file_extension": ".py",
   "mimetype": "text/x-python",
   "name": "python",
   "nbconvert_exporter": "python",
   "pygments_lexer": "ipython3",
   "version": "3.7.6"
  }
 },
 "nbformat": 4,
 "nbformat_minor": 4
}
